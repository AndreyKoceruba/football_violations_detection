{
 "cells": [
  {
   "cell_type": "code",
   "execution_count": 1,
   "metadata": {},
   "outputs": [
    {
     "name": "stderr",
     "output_type": "stream",
     "text": [
      "Using TensorFlow backend.\n"
     ]
    },
    {
     "name": "stdout",
     "output_type": "stream",
     "text": [
      "WARNING:tensorflow:From C:\\Users\\akoceruba\\Anaconda3\\envs\\python3.6.6\\lib\\site-packages\\tensorflow\\python\\framework\\op_def_library.py:263: colocate_with (from tensorflow.python.framework.ops) is deprecated and will be removed in a future version.\n",
      "Instructions for updating:\n",
      "Colocations handled automatically by placer.\n"
     ]
    }
   ],
   "source": [
    "import numpy as np\n",
    "import pandas as pd\n",
    "import dill\n",
    "from src.utils import *\n",
    "from src.augmentator import Augmentator\n",
    "from src.image_sequence_generator import ImageSequenceGenerator\n",
    "from src.video_classifier import VideoClassifier\n",
    "from tqdm import tqdm_notebook\n",
    "from sklearn.metrics import roc_auc_score, roc_curve, precision_recall_curve, auc\n",
    "from matplotlib import pyplot as plt"
   ]
  },
  {
   "cell_type": "code",
   "execution_count": 2,
   "metadata": {},
   "outputs": [],
   "source": [
    "train_ids, train_classes = read_ids('../IDs/train.csv')\n",
    "valid_ids, valid_classes = read_ids('../IDs/valid.csv')\n",
    "test_ids, test_classes = read_ids('../IDs/test.csv')"
   ]
  },
  {
   "cell_type": "code",
   "execution_count": 3,
   "metadata": {},
   "outputs": [],
   "source": [
    "video_path = '../videos'\n",
    "train_augmentator = Augmentator(preprocessing_function=scale_image)\n",
    "valid_augmentator = Augmentator(preprocessing_function=scale_image)\n",
    "train_generator = ImageSequenceGenerator(\n",
    "    video_path,\n",
    "    train_ids,\n",
    "    train_classes,\n",
    "    ['0', '1'],\n",
    "    train_augmentator,\n",
    "    fit_eval=True,\n",
    "    fps=3,\n",
    "    sequence_time=2,\n",
    "    batch_size=3\n",
    ")\n",
    "valid_generator = ImageSequenceGenerator(\n",
    "    video_path,\n",
    "    valid_ids,\n",
    "    valid_classes,\n",
    "    ['0', '1'],\n",
    "    valid_augmentator,\n",
    "    fit_eval=True,\n",
    "    fps=3,\n",
    "    sequence_time=2,\n",
    "    batch_size=3\n",
    ")"
   ]
  },
  {
   "cell_type": "code",
   "execution_count": 4,
   "metadata": {},
   "outputs": [
    {
     "name": "stdout",
     "output_type": "stream",
     "text": [
      "WARNING:tensorflow:From C:\\Users\\akoceruba\\Anaconda3\\envs\\python3.6.6\\lib\\site-packages\\keras\\backend\\tensorflow_backend.py:3733: calling dropout (from tensorflow.python.ops.nn_ops) with keep_prob is deprecated and will be removed in a future version.\n",
      "Instructions for updating:\n",
      "Please use `rate` instead of `keep_prob`. Rate should be set to `rate = 1 - keep_prob`.\n",
      "Wall time: 25.7 s\n"
     ]
    }
   ],
   "source": [
    "%%time\n",
    "video_classifier = VideoClassifier(input_shape=(train_generator.timesteps, 224, 224, 3))\n",
    "video_classifier.build_model()"
   ]
  },
  {
   "cell_type": "code",
   "execution_count": 5,
   "metadata": {},
   "outputs": [
    {
     "name": "stdout",
     "output_type": "stream",
     "text": [
      "WARNING:tensorflow:From C:\\Users\\akoceruba\\Anaconda3\\envs\\python3.6.6\\lib\\site-packages\\tensorflow\\python\\ops\\math_ops.py:3066: to_int32 (from tensorflow.python.ops.math_ops) is deprecated and will be removed in a future version.\n",
      "Instructions for updating:\n",
      "Use tf.cast instead.\n",
      "Epoch 1/1000\n",
      " - 2853s - loss: 0.4641 - val_loss: 0.9528\n",
      "\n",
      "Epoch 00001: val_loss improved from inf to 0.95278, saving model to model/checkpoint_best_model.h5\n",
      "Epoch 2/1000\n",
      " - 2607s - loss: 0.4042 - val_loss: 0.5444\n",
      "\n",
      "Epoch 00002: val_loss improved from 0.95278 to 0.54437, saving model to model/checkpoint_best_model.h5\n",
      "Epoch 3/1000\n",
      " - 2582s - loss: 0.3224 - val_loss: 1.3720\n",
      "\n",
      "Epoch 00003: val_loss did not improve from 0.54437\n",
      "Epoch 4/1000\n",
      " - 2588s - loss: 0.3039 - val_loss: 0.4451\n",
      "\n",
      "Epoch 00004: val_loss improved from 0.54437 to 0.44508, saving model to model/checkpoint_best_model.h5\n",
      "Epoch 5/1000\n",
      " - 2586s - loss: 0.2724 - val_loss: 0.3800\n",
      "\n",
      "Epoch 00005: val_loss improved from 0.44508 to 0.38001, saving model to model/checkpoint_best_model.h5\n",
      "Epoch 6/1000\n",
      " - 2576s - loss: 0.2491 - val_loss: 0.4222\n",
      "\n",
      "Epoch 00006: val_loss did not improve from 0.38001\n",
      "Epoch 7/1000\n",
      " - 2584s - loss: 0.2297 - val_loss: 0.4930\n",
      "\n",
      "Epoch 00007: val_loss did not improve from 0.38001\n",
      "Epoch 8/1000\n",
      " - 2576s - loss: 0.1927 - val_loss: 0.5246\n",
      "\n",
      "Epoch 00008: val_loss did not improve from 0.38001\n",
      "Epoch 9/1000\n",
      " - 2583s - loss: 0.1390 - val_loss: 0.6245\n",
      "\n",
      "Epoch 00009: val_loss did not improve from 0.38001\n",
      "Epoch 00009: early stopping\n",
      "Wall time: 6h 32min 33s\n"
     ]
    },
    {
     "data": {
      "text/plain": [
       "<keras.callbacks.History at 0x25c276c2da0>"
      ]
     },
     "execution_count": 5,
     "metadata": {},
     "output_type": "execute_result"
    }
   ],
   "source": [
    "%%time\n",
    "video_classifier.fit(train_generator, epochs=1000, validation_data=valid_generator)"
   ]
  },
  {
   "cell_type": "code",
   "execution_count": 7,
   "metadata": {},
   "outputs": [],
   "source": [
    "with open('model/history.pkl', 'wb') as f:\n",
    "    dill.dump(video_classifier.history, f)"
   ]
  },
  {
   "cell_type": "code",
   "execution_count": 4,
   "metadata": {},
   "outputs": [
    {
     "name": "stdout",
     "output_type": "stream",
     "text": [
      "WARNING:tensorflow:From C:\\Users\\akoceruba\\Anaconda3\\envs\\python3.6.6\\lib\\site-packages\\keras\\backend\\tensorflow_backend.py:3733: calling dropout (from tensorflow.python.ops.nn_ops) with keep_prob is deprecated and will be removed in a future version.\n",
      "Instructions for updating:\n",
      "Please use `rate` instead of `keep_prob`. Rate should be set to `rate = 1 - keep_prob`.\n",
      "Wall time: 28 s\n"
     ]
    }
   ],
   "source": [
    "%%time\n",
    "video_classifier = VideoClassifier(input_shape=(train_generator.timesteps, 224, 224, 3))\n",
    "video_classifier.build_model(weights_path='model/checkpoint_best_model.h5')"
   ]
  },
  {
   "cell_type": "code",
   "execution_count": 5,
   "metadata": {},
   "outputs": [
    {
     "name": "stdout",
     "output_type": "stream",
     "text": [
      "WARNING:tensorflow:From C:\\Users\\akoceruba\\Anaconda3\\envs\\python3.6.6\\lib\\site-packages\\tensorflow\\python\\ops\\math_ops.py:3066: to_int32 (from tensorflow.python.ops.math_ops) is deprecated and will be removed in a future version.\n",
      "Instructions for updating:\n",
      "Use tf.cast instead.\n",
      "Wall time: 55.8 s\n"
     ]
    }
   ],
   "source": [
    "%%time\n",
    "with open('model/history.pkl', 'rb') as f:\n",
    "    history = dill.load(f)"
   ]
  },
  {
   "cell_type": "code",
   "execution_count": 26,
   "metadata": {},
   "outputs": [],
   "source": [
    "plot_learning_curves(history)"
   ]
  },
  {
   "cell_type": "code",
   "execution_count": 7,
   "metadata": {},
   "outputs": [],
   "source": [
    "predict_augmentator = Augmentator(\n",
    "    rotation_range=(0, 0),\n",
    "    width_shift_range=(0, 0),\n",
    "    height_shift_range=(0, 0),\n",
    "    scale_x_range=(1, 1),\n",
    "    scale_y_range=(1, 1),\n",
    "    horizontal_flip=False,\n",
    "    preprocessing_function=scale_image\n",
    ")"
   ]
  },
  {
   "cell_type": "code",
   "execution_count": 9,
   "metadata": {},
   "outputs": [],
   "source": [
    "train_predict_generator = ImageSequenceGenerator(\n",
    "    video_path,\n",
    "    train_ids,\n",
    "    train_classes,\n",
    "    ['0', '1'],\n",
    "    predict_augmentator,\n",
    "    fps=3,\n",
    "    sequence_time=2,\n",
    "    batch_size=3,\n",
    "    shuffle=False\n",
    ")\n",
    "valid_predict_generator = ImageSequenceGenerator(\n",
    "    video_path,\n",
    "    valid_ids,\n",
    "    valid_classes,\n",
    "    ['0', '1'],\n",
    "    predict_augmentator,\n",
    "    fps=3,\n",
    "    sequence_time=2,\n",
    "    batch_size=3,\n",
    "    shuffle=False\n",
    ")\n",
    "test_predict_generator = ImageSequenceGenerator(\n",
    "    video_path,\n",
    "    test_ids,\n",
    "    test_classes,\n",
    "    ['0', '1'],\n",
    "    predict_augmentator,\n",
    "    fps=3,\n",
    "    sequence_time=2,\n",
    "    batch_size=3,\n",
    "    shuffle=False\n",
    ")"
   ]
  },
  {
   "cell_type": "code",
   "execution_count": 10,
   "metadata": {
    "scrolled": true
   },
   "outputs": [
    {
     "name": "stdout",
     "output_type": "stream",
     "text": [
      "Wall time: 20min 33s\n"
     ]
    }
   ],
   "source": [
    "%%time\n",
    "y_true_train, y_pred_train = video_classifier.predict(train_predict_generator)"
   ]
  },
  {
   "cell_type": "code",
   "execution_count": 11,
   "metadata": {
    "scrolled": true
   },
   "outputs": [
    {
     "name": "stdout",
     "output_type": "stream",
     "text": [
      "Wall time: 18min 54s\n"
     ]
    }
   ],
   "source": [
    "%%time\n",
    "y_true_valid, y_pred_valid = video_classifier.predict(valid_predict_generator)"
   ]
  },
  {
   "cell_type": "code",
   "execution_count": 12,
   "metadata": {
    "scrolled": true
   },
   "outputs": [
    {
     "name": "stdout",
     "output_type": "stream",
     "text": [
      "Wall time: 17min 27s\n"
     ]
    }
   ],
   "source": [
    "%%time\n",
    "y_true_test, y_pred_test = video_classifier.predict(test_predict_generator)"
   ]
  },
  {
   "cell_type": "code",
   "execution_count": 27,
   "metadata": {},
   "outputs": [],
   "source": [
    "fpr_train, tpr_train, roc_thresholds_train = roc_curve(y_true_train[:, 1], y_pred_train[:, 1])\n",
    "fpr_valid, tpr_valid, roc_thresholds_valid = roc_curve(y_true_valid[:, 1], y_pred_valid[:, 1])\n",
    "fpr_test, tpr_test, roc_thresholds_test = roc_curve(y_true_test[:, 1], y_pred_test[:, 1])\n",
    "plot_curves(\n",
    "    fpr_train,\n",
    "    tpr_train,\n",
    "    roc_thresholds_train,\n",
    "    fpr_valid,\n",
    "    tpr_valid,\n",
    "    roc_thresholds_valid,\n",
    "    fpr_test,\n",
    "    tpr_test,\n",
    "    roc_thresholds_test,\n",
    "    output='plot/ROC_curves.html'\n",
    ")"
   ]
  },
  {
   "cell_type": "code",
   "execution_count": 28,
   "metadata": {},
   "outputs": [],
   "source": [
    "recall_train, precision_train, pr_thresholds_train = precision_recall_curve(y_true_train[:, 1], y_pred_train[:, 1])\n",
    "recall_valid, precision_valid, pr_thresholds_valid = precision_recall_curve(y_true_valid[:, 1], y_pred_valid[:, 1])\n",
    "recall_test, precision_test, pr_thresholds_test = precision_recall_curve(y_true_test[:, 1], y_pred_test[:, 1])\n",
    "plot_curves(\n",
    "    recall_train,\n",
    "    precision_train,\n",
    "    pr_thresholds_train,\n",
    "    recall_valid,\n",
    "    precision_valid,\n",
    "    pr_thresholds_valid,\n",
    "    recall_test,\n",
    "    precision_test,\n",
    "    pr_thresholds_test,\n",
    "    curve_type='PR',\n",
    "    output='plot/PR_curves.html'\n",
    ")"
   ]
  },
  {
   "cell_type": "code",
   "execution_count": 19,
   "metadata": {},
   "outputs": [
    {
     "data": {
      "text/plain": [
       "'ROC AUC and GINI train:'"
      ]
     },
     "metadata": {},
     "output_type": "display_data"
    },
    {
     "data": {
      "text/plain": [
       "0.9762501722926521"
      ]
     },
     "metadata": {},
     "output_type": "display_data"
    },
    {
     "data": {
      "text/plain": [
       "0.9525003445853042"
      ]
     },
     "metadata": {},
     "output_type": "display_data"
    }
   ],
   "source": [
    "roc_auc = roc_auc_score(y_true_train[:, 1], y_pred_train[:, 1])\n",
    "gini = gini_score(roc_auc)\n",
    "display('ROC AUC and GINI train:', roc_auc, gini)"
   ]
  },
  {
   "cell_type": "code",
   "execution_count": 21,
   "metadata": {},
   "outputs": [
    {
     "data": {
      "text/plain": [
       "'ROC AUC and GINI valid:'"
      ]
     },
     "metadata": {},
     "output_type": "display_data"
    },
    {
     "data": {
      "text/plain": [
       "0.9448443634887268"
      ]
     },
     "metadata": {},
     "output_type": "display_data"
    },
    {
     "data": {
      "text/plain": [
       "0.8896887269774536"
      ]
     },
     "metadata": {},
     "output_type": "display_data"
    }
   ],
   "source": [
    "roc_auc = roc_auc_score(y_true_valid[:, 1], y_pred_valid[:, 1])\n",
    "gini = gini_score(roc_auc)\n",
    "display('ROC AUC and GINI valid:', roc_auc, gini)"
   ]
  },
  {
   "cell_type": "code",
   "execution_count": 22,
   "metadata": {},
   "outputs": [
    {
     "data": {
      "text/plain": [
       "'ROC AUC and GINI test:'"
      ]
     },
     "metadata": {},
     "output_type": "display_data"
    },
    {
     "data": {
      "text/plain": [
       "0.8252614845295787"
      ]
     },
     "metadata": {},
     "output_type": "display_data"
    },
    {
     "data": {
      "text/plain": [
       "0.6505229690591574"
      ]
     },
     "metadata": {},
     "output_type": "display_data"
    }
   ],
   "source": [
    "roc_auc = roc_auc_score(y_true_test[:, 1], y_pred_test[:, 1])\n",
    "gini = gini_score(roc_auc)\n",
    "display('ROC AUC and GINI test:', roc_auc, gini)"
   ]
  },
  {
   "cell_type": "code",
   "execution_count": 23,
   "metadata": {},
   "outputs": [
    {
     "name": "stdout",
     "output_type": "stream",
     "text": [
      "PR Train: 0.3723167918288589\n",
      "PR Valid: 0.41541187105997757\n",
      "PR Test: 0.3434730382750549\n"
     ]
    }
   ],
   "source": [
    "print('PR Train:', auc(recall_train, precision_train, reorder=True))\n",
    "print('PR Valid:', auc(recall_valid, precision_valid, reorder=True))\n",
    "print('PR Test:', auc(recall_test, precision_test, reorder=True))"
   ]
  },
  {
   "cell_type": "code",
   "execution_count": 5,
   "metadata": {},
   "outputs": [],
   "source": [
    "mark_video_path = '../videos_old/raw/test/0'\n",
    "mark_video_generator = ImageSequenceGenerator(\n",
    "    mark_video_path,\n",
    "    ids=['Full Match - Arsenal FC vs. FC Bayern 2-1 - International Champions Cup 2019.mp4'],\n",
    "    fps=3,\n",
    "    sequence_time=2,\n",
    "    batch_size=3,\n",
    "    shuffle=False,\n",
    "    fit_eval=False\n",
    ")"
   ]
  },
  {
   "cell_type": "code",
   "execution_count": 6,
   "metadata": {},
   "outputs": [],
   "source": [
    "video_classifier = VideoClassifier(input_shape=(mark_video_generator.timesteps, 224, 224, 3))\n",
    "video_classifier.build_model(weights_path='model/checkpoint_best_model.h5')"
   ]
  },
  {
   "cell_type": "code",
   "execution_count": 7,
   "metadata": {},
   "outputs": [
    {
     "name": "stdout",
     "output_type": "stream",
     "text": [
      "Wall time: 39min 35s\n"
     ]
    }
   ],
   "source": [
    "%%time\n",
    "y_pred_mark = video_classifier.predict(mark_video_generator)"
   ]
  },
  {
   "cell_type": "code",
   "execution_count": 18,
   "metadata": {},
   "outputs": [
    {
     "data": {
      "text/plain": [
       "'plot/violation_distribution.html'"
      ]
     },
     "execution_count": 18,
     "metadata": {},
     "output_type": "execute_result"
    }
   ],
   "source": [
    "trace = go.Scatter(\n",
    "    x=np.arange(0, y_pred_mark.shape[0]),\n",
    "    y=y_pred_mark[:, 1]\n",
    ")\n",
    "data = [trace]\n",
    "layout = go.Layout(\n",
    "    title=dict(\n",
    "        text='Violation distribution'\n",
    "    ),\n",
    "    xaxis=dict(\n",
    "        title=dict(\n",
    "            text='Second'\n",
    "        )\n",
    "    ),\n",
    "    yaxis=dict(\n",
    "        title=dict(\n",
    "            text='Score per second'\n",
    "        )\n",
    "    )\n",
    ")\n",
    "fig = go.Figure(data=data, layout=layout)\n",
    "pyo.plot(fig, filename='plot/violation_distribution.html')"
   ]
  },
  {
   "cell_type": "code",
   "execution_count": 46,
   "metadata": {},
   "outputs": [],
   "source": [
    "def hms(sec):\n",
    "    seconds = sec\n",
    "    hours = int(seconds / 3600)\n",
    "    seconds = int(seconds - hours * 3600)\n",
    "    minutes = int(seconds / 60)\n",
    "    seconds = int(seconds - minutes * 60)\n",
    "    return hours, minutes, seconds"
   ]
  },
  {
   "cell_type": "code",
   "execution_count": 61,
   "metadata": {},
   "outputs": [
    {
     "data": {
      "text/plain": [
       "'plot/violation_distribution.html'"
      ]
     },
     "execution_count": 61,
     "metadata": {},
     "output_type": "execute_result"
    }
   ],
   "source": [
    "trace = go.Scatter(\n",
    "    x=list(map(lambda x: '{:02}:{:02}:{:02}'.format(x[0], x[1], x[2]), map(hms, range(y_pred_mark.shape[0])))),\n",
    "    y=y_pred_mark[:, 1]\n",
    ")\n",
    "data = [trace]\n",
    "layout = go.Layout(\n",
    "    title=dict(\n",
    "        text='Violation distribution'\n",
    "    ),\n",
    "    xaxis=dict(\n",
    "        title=dict(\n",
    "            text='Second'\n",
    "        )\n",
    "    ),\n",
    "    yaxis=dict(\n",
    "        title=dict(\n",
    "            text='Score per second'\n",
    "        )\n",
    "    )\n",
    ")\n",
    "fig = go.Figure(data=data, layout=layout)\n",
    "pyo.plot(fig, filename='plot/violation_distribution.html')"
   ]
  },
  {
   "cell_type": "code",
   "execution_count": null,
   "metadata": {},
   "outputs": [],
   "source": []
  }
 ],
 "metadata": {
  "kernelspec": {
   "display_name": "Python 3.6.6",
   "language": "python",
   "name": "python3.6.6"
  },
  "language_info": {
   "codemirror_mode": {
    "name": "ipython",
    "version": 3
   },
   "file_extension": ".py",
   "mimetype": "text/x-python",
   "name": "python",
   "nbconvert_exporter": "python",
   "pygments_lexer": "ipython3",
   "version": "3.6.6"
  }
 },
 "nbformat": 4,
 "nbformat_minor": 2
}
