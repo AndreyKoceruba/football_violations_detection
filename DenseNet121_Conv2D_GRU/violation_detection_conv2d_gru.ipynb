{
 "cells": [
  {
   "cell_type": "code",
   "execution_count": 1,
   "metadata": {},
   "outputs": [
    {
     "name": "stderr",
     "output_type": "stream",
     "text": [
      "Using TensorFlow backend.\n"
     ]
    },
    {
     "name": "stdout",
     "output_type": "stream",
     "text": [
      "WARNING:tensorflow:From C:\\Users\\akoceruba\\Anaconda3\\envs\\python3.6.6\\lib\\site-packages\\tensorflow\\python\\framework\\op_def_library.py:263: colocate_with (from tensorflow.python.framework.ops) is deprecated and will be removed in a future version.\n",
      "Instructions for updating:\n",
      "Colocations handled automatically by placer.\n"
     ]
    }
   ],
   "source": [
    "import numpy as np\n",
    "import pandas as pd\n",
    "import dill\n",
    "from src.utils import *\n",
    "from src.augmentator import Augmentator\n",
    "from src.image_sequence_generator import ImageSequenceGenerator\n",
    "from src.video_classifier import VideoClassifier\n",
    "from tqdm import tqdm_notebook\n",
    "from sklearn.metrics import roc_auc_score, roc_curve, precision_recall_curve, auc\n",
    "from matplotlib import pyplot as plt"
   ]
  },
  {
   "cell_type": "code",
   "execution_count": 2,
   "metadata": {},
   "outputs": [],
   "source": [
    "train_ids, train_classes = read_ids('../IDs/train.csv')\n",
    "valid_ids, valid_classes = read_ids('../IDs/valid.csv')\n",
    "test_ids, test_classes = read_ids('../IDs/test.csv')"
   ]
  },
  {
   "cell_type": "code",
   "execution_count": 3,
   "metadata": {},
   "outputs": [],
   "source": [
    "video_path = '../videos_old'\n",
    "train_augmentator = Augmentator(preprocessing_function=scale_image)\n",
    "valid_augmentator = Augmentator(preprocessing_function=scale_image)\n",
    "train_generator = ImageSequenceGenerator(\n",
    "    video_path,\n",
    "    train_ids,\n",
    "    train_classes,\n",
    "    ['0', '1'],\n",
    "    train_augmentator,\n",
    "    fit_eval=True,\n",
    "    fps=3,\n",
    "    sequence_time=2,\n",
    "    batch_size=3\n",
    ")\n",
    "valid_generator = ImageSequenceGenerator(\n",
    "    video_path,\n",
    "    valid_ids,\n",
    "    valid_classes,\n",
    "    ['0', '1'],\n",
    "    valid_augmentator,\n",
    "    fit_eval=True,\n",
    "    fps=3,\n",
    "    sequence_time=2,\n",
    "    batch_size=3\n",
    ")"
   ]
  },
  {
   "cell_type": "code",
   "execution_count": 4,
   "metadata": {},
   "outputs": [
    {
     "name": "stdout",
     "output_type": "stream",
     "text": [
      "WARNING:tensorflow:From C:\\Users\\akoceruba\\Anaconda3\\envs\\python3.6.6\\lib\\site-packages\\keras\\backend\\tensorflow_backend.py:3733: calling dropout (from tensorflow.python.ops.nn_ops) with keep_prob is deprecated and will be removed in a future version.\n",
      "Instructions for updating:\n",
      "Please use `rate` instead of `keep_prob`. Rate should be set to `rate = 1 - keep_prob`.\n",
      "Wall time: 24.4 s\n"
     ]
    }
   ],
   "source": [
    "%%time\n",
    "video_classifier = VideoClassifier(input_shape=(train_generator.timesteps, 224, 224, 3))\n",
    "video_classifier.build_model()"
   ]
  },
  {
   "cell_type": "code",
   "execution_count": null,
   "metadata": {},
   "outputs": [
    {
     "name": "stdout",
     "output_type": "stream",
     "text": [
      "WARNING:tensorflow:From C:\\Users\\akoceruba\\Anaconda3\\envs\\python3.6.6\\lib\\site-packages\\tensorflow\\python\\ops\\math_ops.py:3066: to_int32 (from tensorflow.python.ops.math_ops) is deprecated and will be removed in a future version.\n",
      "Instructions for updating:\n",
      "Use tf.cast instead.\n",
      "Epoch 1/1000\n"
     ]
    }
   ],
   "source": [
    "%%time\n",
    "video_classifier.fit(train_generator, epochs=1000, validation_data=valid_generator)"
   ]
  },
  {
   "cell_type": "code",
   "execution_count": null,
   "metadata": {},
   "outputs": [],
   "source": [
    "with open('model/history.pkl', 'wb') as f:\n",
    "    dill.dump(video_classifier.history, f)"
   ]
  },
  {
   "cell_type": "code",
   "execution_count": null,
   "metadata": {},
   "outputs": [],
   "source": [
    "# %%time\n",
    "# video_classifier = VideoClassifier(input_shape=(train_generator.timesteps, 224, 224, 3))\n",
    "# video_classifier.build_model(weights_path='model/checkpoint_best_model.h5')"
   ]
  },
  {
   "cell_type": "code",
   "execution_count": null,
   "metadata": {},
   "outputs": [],
   "source": [
    "# %%time\n",
    "# with open('model/history.pkl', 'rb') as f:\n",
    "#     history = dill.load(f)"
   ]
  },
  {
   "cell_type": "code",
   "execution_count": null,
   "metadata": {},
   "outputs": [],
   "source": [
    "plot_learning_curves(history)"
   ]
  },
  {
   "cell_type": "code",
   "execution_count": null,
   "metadata": {},
   "outputs": [],
   "source": [
    "predict_augmentator = Augmentator(\n",
    "    rotation_range=(0, 0),\n",
    "    width_shift_range=(0, 0),\n",
    "    height_shift_range=(0, 0),\n",
    "    scale_x_range=(1, 1),\n",
    "    scale_y_range=(1, 1),\n",
    "    horizontal_flip=False,\n",
    "    preprocessing_function=scale_image\n",
    ")"
   ]
  },
  {
   "cell_type": "code",
   "execution_count": null,
   "metadata": {},
   "outputs": [],
   "source": [
    "train_predict_generator = ImageSequenceGenerator(\n",
    "    video_path,\n",
    "    train_ids,\n",
    "    train_classes,\n",
    "    ['0', '1'],\n",
    "    predict_augmentator,\n",
    "    fps=3,\n",
    "    sequence_time=2,\n",
    "    batch_size=3,\n",
    "    shuffle=False\n",
    ")\n",
    "valid_predict_generator = ImageSequenceGenerator(\n",
    "    video_path,\n",
    "    valid_ids,\n",
    "    valid_classes,\n",
    "    ['0', '1'],\n",
    "    predict_augmentator,\n",
    "    fps=3,\n",
    "    sequence_time=2,\n",
    "    batch_size=3,\n",
    "    shuffle=False\n",
    ")\n",
    "test_predict_generator = ImageSequenceGenerator(\n",
    "    video_path,\n",
    "    test_ids,\n",
    "    test_classes,\n",
    "    ['0', '1'],\n",
    "    predict_augmentator,\n",
    "    fps=3,\n",
    "    sequence_time=2,\n",
    "    batch_size=3,\n",
    "    shuffle=False\n",
    ")"
   ]
  },
  {
   "cell_type": "code",
   "execution_count": null,
   "metadata": {
    "scrolled": true
   },
   "outputs": [],
   "source": [
    "%%time\n",
    "y_true_train, y_pred_train = video_classifier.predict(train_predict_generator)"
   ]
  },
  {
   "cell_type": "code",
   "execution_count": null,
   "metadata": {
    "scrolled": true
   },
   "outputs": [],
   "source": [
    "%%time\n",
    "y_true_valid, y_pred_valid = video_classifier.predict(valid_predict_generator)"
   ]
  },
  {
   "cell_type": "code",
   "execution_count": null,
   "metadata": {
    "scrolled": true
   },
   "outputs": [],
   "source": [
    "%%time\n",
    "y_true_test, y_pred_test = video_classifier.predict(test_predict_generator)"
   ]
  },
  {
   "cell_type": "code",
   "execution_count": null,
   "metadata": {},
   "outputs": [],
   "source": [
    "fpr_train, tpr_train, roc_thresholds_train = roc_curve(y_true_train[:, 1], y_pred_train[:, 1])\n",
    "fpr_valid, tpr_valid, roc_thresholds_valid = roc_curve(y_true_valid[:, 1], y_pred_valid[:, 1])\n",
    "fpr_test, tpr_test, roc_thresholds_test = roc_curve(y_true_test[:, 1], y_pred_test[:, 1])\n",
    "plot_curves(\n",
    "    fpr_train,\n",
    "    tpr_train,\n",
    "    roc_thresholds_train,\n",
    "    fpr_valid,\n",
    "    tpr_valid,\n",
    "    roc_thresholds_valid,\n",
    "    fpr_test,\n",
    "    tpr_test,\n",
    "    roc_thresholds_test,\n",
    "    output='plot/ROC_curves.html'\n",
    ")"
   ]
  },
  {
   "cell_type": "code",
   "execution_count": null,
   "metadata": {},
   "outputs": [],
   "source": [
    "recall_train, precision_train, pr_thresholds_train = precision_recall_curve(y_true_train[:, 1], y_pred_train[:, 1])\n",
    "recall_valid, precision_valid, pr_thresholds_valid = precision_recall_curve(y_true_valid[:, 1], y_pred_valid[:, 1])\n",
    "recall_test, precision_test, pr_thresholds_test = precision_recall_curve(y_true_test[:, 1], y_pred_test[:, 1])\n",
    "plot_curves(\n",
    "    recall_train,\n",
    "    precision_train,\n",
    "    pr_thresholds_train,\n",
    "    recall_valid,\n",
    "    precision_valid,\n",
    "    pr_thresholds_valid,\n",
    "    recall_test,\n",
    "    precision_test,\n",
    "    pr_thresholds_test,\n",
    "    curve_type='PR',\n",
    "    output='plot/PR_curves.html'\n",
    ")"
   ]
  },
  {
   "cell_type": "code",
   "execution_count": null,
   "metadata": {},
   "outputs": [],
   "source": [
    "roc_auc = roc_auc_score(y_true_train[:, 1], y_pred_train[:, 1])\n",
    "gini = gini_score(roc_auc)\n",
    "display('ROC AUC and GINI train:', roc_auc, gini)"
   ]
  },
  {
   "cell_type": "code",
   "execution_count": null,
   "metadata": {},
   "outputs": [],
   "source": [
    "roc_auc = roc_auc_score(y_true_valid[:, 1], y_pred_valid[:, 1])\n",
    "gini = gini_score(roc_auc)\n",
    "display('ROC AUC and GINI valid:', roc_auc, gini)"
   ]
  },
  {
   "cell_type": "code",
   "execution_count": null,
   "metadata": {},
   "outputs": [],
   "source": [
    "roc_auc = roc_auc_score(y_true_test[:, 1], y_pred_test[:, 1])\n",
    "gini = gini_score(roc_auc)\n",
    "display('ROC AUC and GINI test:', roc_auc, gini)"
   ]
  },
  {
   "cell_type": "code",
   "execution_count": null,
   "metadata": {},
   "outputs": [],
   "source": [
    "print('PR Train:', auc(recall_train, precision_train, reorder=True))\n",
    "print('PR Valid:', auc(recall_valid, precision_valid, reorder=True))\n",
    "print('PR Test:', auc(recall_test, precision_test, reorder=True))"
   ]
  },
  {
   "cell_type": "code",
   "execution_count": null,
   "metadata": {},
   "outputs": [],
   "source": [
    "mark_video_path = '../videos_old_raw/raw/test/0'\n",
    "mark_video_generator = ImageSequenceGenerator(\n",
    "    mark_video_path,\n",
    "    ids=['Full Match - Arsenal FC vs. FC Bayern 2-1 - International Champions Cup 2019.mp4'],\n",
    "    fps=3,\n",
    "    sequence_time=2,\n",
    "    batch_size=3,\n",
    "    shuffle=False,\n",
    "    fit_eval=False\n",
    ")"
   ]
  },
  {
   "cell_type": "code",
   "execution_count": null,
   "metadata": {},
   "outputs": [],
   "source": [
    "# video_classifier = VideoClassifier(input_shape=(mark_video_generator.timesteps, 224, 224, 3))\n",
    "# video_classifier.build_model(weights_path='model/checkpoint_best_model.h5')"
   ]
  },
  {
   "cell_type": "code",
   "execution_count": null,
   "metadata": {},
   "outputs": [],
   "source": [
    "%%time\n",
    "y_pred_mark = video_classifier.predict(mark_video_generator)"
   ]
  },
  {
   "cell_type": "code",
   "execution_count": null,
   "metadata": {},
   "outputs": [],
   "source": [
    "def hms(sec):\n",
    "    seconds = sec\n",
    "    hours = int(seconds / 3600)\n",
    "    seconds = int(seconds - hours * 3600)\n",
    "    minutes = int(seconds / 60)\n",
    "    seconds = int(seconds - minutes * 60)\n",
    "    return hours, minutes, seconds"
   ]
  },
  {
   "cell_type": "code",
   "execution_count": null,
   "metadata": {},
   "outputs": [],
   "source": [
    "trace = go.Scatter(\n",
    "    x=list(map(lambda x: '{:02}:{:02}:{:02}'.format(x[0], x[1], x[2]), map(hms, range(y_pred_mark.shape[0])))),\n",
    "    y=y_pred_mark[:, 1]\n",
    ")\n",
    "data = [trace]\n",
    "layout = go.Layout(\n",
    "    title=dict(\n",
    "        text='Violation distribution'\n",
    "    ),\n",
    "    xaxis=dict(\n",
    "        title=dict(\n",
    "            text='Second'\n",
    "        )\n",
    "    ),\n",
    "    yaxis=dict(\n",
    "        title=dict(\n",
    "            text='Score per second'\n",
    "        )\n",
    "    )\n",
    ")\n",
    "fig = go.Figure(data=data, layout=layout)\n",
    "pyo.plot(fig, filename='plot/violation_distribution.html')"
   ]
  },
  {
   "cell_type": "code",
   "execution_count": 8,
   "metadata": {},
   "outputs": [
    {
     "name": "stdout",
     "output_type": "stream",
     "text": [
      "10993\n",
      "6\n",
      "30\n"
     ]
    }
   ],
   "source": [
    "# import cv2\n",
    "# from src.video_stream import VideoStream\n",
    "# with VideoStream('../videos_old/00001.mp4') as cap:\n",
    "#     print(int(cap.get(cv2.CAP_PROP_FRAME_COUNT)))\n",
    "#     print(train_generator.timesteps)\n",
    "#     print(int(np.ceil(cap.get(cv2.CAP_PROP_FPS)) * train_generator.shift_time))"
   ]
  }
 ],
 "metadata": {
  "kernelspec": {
   "display_name": "Python 3.6.6",
   "language": "python",
   "name": "python3.6.6"
  },
  "language_info": {
   "codemirror_mode": {
    "name": "ipython",
    "version": 3
   },
   "file_extension": ".py",
   "mimetype": "text/x-python",
   "name": "python",
   "nbconvert_exporter": "python",
   "pygments_lexer": "ipython3",
   "version": "3.6.6"
  }
 },
 "nbformat": 4,
 "nbformat_minor": 2
}
