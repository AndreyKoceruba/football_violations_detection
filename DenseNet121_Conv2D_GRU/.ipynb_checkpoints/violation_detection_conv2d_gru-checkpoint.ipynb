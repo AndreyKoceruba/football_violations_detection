{
 "cells": [
  {
   "cell_type": "code",
   "execution_count": 1,
   "metadata": {},
   "outputs": [
    {
     "name": "stderr",
     "output_type": "stream",
     "text": [
      "Using TensorFlow backend.\n"
     ]
    },
    {
     "name": "stdout",
     "output_type": "stream",
     "text": [
      "WARNING:tensorflow:From C:\\Users\\akoceruba\\Anaconda3\\envs\\python3.6.6\\lib\\site-packages\\tensorflow\\python\\framework\\op_def_library.py:263: colocate_with (from tensorflow.python.framework.ops) is deprecated and will be removed in a future version.\n",
      "Instructions for updating:\n",
      "Colocations handled automatically by placer.\n"
     ]
    }
   ],
   "source": [
    "import numpy as np\n",
    "import pandas as pd\n",
    "import dill\n",
    "from src.utils import read_ids, scale_image\n",
    "from src.augmentator import Augmentator\n",
    "from src.image_sequence_generator import ImageSequenceGenerator\n",
    "from src.video_classifier import VideoClassifier\n",
    "from tqdm import tqdm_notebook\n",
    "from sklearn.metrics import roc_auc_score, roc_curve, precision_recall_curve, auc\n",
    "from matplotlib import pyplot as plt"
   ]
  },
  {
   "cell_type": "code",
   "execution_count": 2,
   "metadata": {},
   "outputs": [],
   "source": [
    "train_ids, train_classes = read_ids('../IDs/train.csv')\n",
    "valid_ids, valid_classes = read_ids('../IDs/valid.csv')\n",
    "test_ids, test_classes = read_ids('../IDs/test.csv')"
   ]
  },
  {
   "cell_type": "code",
   "execution_count": 3,
   "metadata": {},
   "outputs": [],
   "source": [
    "video_path = '../videos'\n",
    "train_augmentator = Augmentator(preprocessing_function=scale_image)\n",
    "valid_augmentator = Augmentator(preprocessing_function=scale_image)\n",
    "train_generator = ImageSequenceGenerator(\n",
    "    video_path,\n",
    "    train_ids,\n",
    "    train_classes,\n",
    "    ['0', '1'],\n",
    "    train_augmentator,\n",
    "    fit_eval=True,\n",
    "    fps=3,\n",
    "    sequence_time=2,\n",
    "    batch_size=3\n",
    ")\n",
    "valid_generator = ImageSequenceGenerator(\n",
    "    video_path,\n",
    "    valid_ids,\n",
    "    valid_classes,\n",
    "    ['0', '1'],\n",
    "    valid_augmentator,\n",
    "    fit_eval=True,\n",
    "    fps=3,\n",
    "    sequence_time=2,\n",
    "    batch_size=3\n",
    ")"
   ]
  },
  {
   "cell_type": "code",
   "execution_count": 4,
   "metadata": {},
   "outputs": [
    {
     "name": "stdout",
     "output_type": "stream",
     "text": [
      "WARNING:tensorflow:From C:\\Users\\akoceruba\\Anaconda3\\envs\\python3.6.6\\lib\\site-packages\\keras\\backend\\tensorflow_backend.py:3733: calling dropout (from tensorflow.python.ops.nn_ops) with keep_prob is deprecated and will be removed in a future version.\n",
      "Instructions for updating:\n",
      "Please use `rate` instead of `keep_prob`. Rate should be set to `rate = 1 - keep_prob`.\n",
      "Wall time: 24.9 s\n"
     ]
    }
   ],
   "source": [
    "%%time\n",
    "video_classifier = VideoClassifier(input_shape=(train_generator.timesteps, 224, 224, 3))\n",
    "video_classifier.build_model()"
   ]
  },
  {
   "cell_type": "code",
   "execution_count": null,
   "metadata": {},
   "outputs": [
    {
     "name": "stdout",
     "output_type": "stream",
     "text": [
      "WARNING:tensorflow:From C:\\Users\\akoceruba\\Anaconda3\\envs\\python3.6.6\\lib\\site-packages\\tensorflow\\python\\ops\\math_ops.py:3066: to_int32 (from tensorflow.python.ops.math_ops) is deprecated and will be removed in a future version.\n",
      "Instructions for updating:\n",
      "Use tf.cast instead.\n",
      "Epoch 1/1000\n"
     ]
    }
   ],
   "source": [
    "%%time\n",
    "video_classifier.fit(train_generator, epochs=1000, validation_data=valid_generator)"
   ]
  },
  {
   "cell_type": "code",
   "execution_count": null,
   "metadata": {},
   "outputs": [],
   "source": []
  }
 ],
 "metadata": {
  "kernelspec": {
   "display_name": "Python 3.6.6",
   "language": "python",
   "name": "python3.6.6"
  },
  "language_info": {
   "codemirror_mode": {
    "name": "ipython",
    "version": 3
   },
   "file_extension": ".py",
   "mimetype": "text/x-python",
   "name": "python",
   "nbconvert_exporter": "python",
   "pygments_lexer": "ipython3",
   "version": "3.6.6"
  }
 },
 "nbformat": 4,
 "nbformat_minor": 2
}
